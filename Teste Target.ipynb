{
 "cells": [
  {
   "cell_type": "markdown",
   "id": "9632de1f",
   "metadata": {},
   "source": [
    "### Teste"
   ]
  },
  {
   "cell_type": "markdown",
   "id": "55b5a3a8",
   "metadata": {},
   "source": [
    "### 1) Observe o trecho de código abaixo:\n",
    "\n",
    "int INDICE = 13, SOMA = 0, K = 0;\n",
    "\n",
    "enquanto K < INDICE faça\n",
    "\n",
    "{\n",
    "\n",
    "K = K + 1;\n",
    "\n",
    "SOMA = SOMA + K;\n",
    "\n",
    "}\n",
    "\n",
    "imprimir(SOMA);\n",
    "\n",
    "\n",
    "\n",
    "Ao final do processamento, qual será o valor da variável SOMA?"
   ]
  },
  {
   "cell_type": "code",
   "execution_count": 2,
   "id": "61389440",
   "metadata": {},
   "outputs": [
    {
     "name": "stdout",
     "output_type": "stream",
     "text": [
      "91\n"
     ]
    }
   ],
   "source": [
    "indice = 13\n",
    "soma = 0\n",
    "k = 0\n",
    "\n",
    "while k < indice:\n",
    "    k = k + 1\n",
    "    soma = soma + k\n",
    "print(soma)"
   ]
  },
  {
   "cell_type": "markdown",
   "id": "b30047f4",
   "metadata": {},
   "source": [
    "### \n",
    "2) Dado a sequência de Fibonacci, onde se inicia por 0 e 1 e o próximo valor sempre será a soma dos 2 valores anteriores (exemplo: 0, 1, 1, 2, 3, 5, 8, 13, 21, 34...), escreva um programa na linguagem que desejar onde, informado um número, ele calcule a sequência de Fibonacci e retorne uma mensagem avisando se o número informado pertence ou não a sequência.\n",
    "\n",
    "\n",
    "\n",
    "IMPORTANTE:\n",
    "\n",
    "Esse número pode ser informado através de qualquer entrada de sua preferência ou pode ser previamente definido no código;"
   ]
  },
  {
   "cell_type": "code",
   "execution_count": 3,
   "id": "2a984688",
   "metadata": {},
   "outputs": [
    {
     "name": "stdout",
     "output_type": "stream",
     "text": [
      "Entre com um número: 13\n",
      "Fibonacci(13): 233; O número digitado pertence a sequência Fibonacci.\n"
     ]
    }
   ],
   "source": [
    "fibonacci = [1,1]\n",
    "i = 0\n",
    "num = int(input(\"Entre com um número: \"))\n",
    "\n",
    "while num > len(fibonacci):\n",
    "\tfibonacci.append(fibonacci[i] + fibonacci[i+1])\n",
    "\ti+=1\n",
    "print ('Fibonacci(%d): %d;' %(num,fibonacci[num-1]),end=\"\")\n",
    "if (num in fibonacci):\n",
    "    print(\" O número digitado pertence a sequência Fibonacci.\")\n",
    "else:\n",
    "    print(\" O número não pertence a sequência Fibonacci.\") "
   ]
  },
  {
   "cell_type": "markdown",
   "id": "538b4925",
   "metadata": {},
   "source": [
    "### \n",
    "3) Descubra a lógica e complete o próximo elemento:\n",
    "\n",
    "\n",
    "\n",
    "a) 1, 3, 5, 7, ___\n",
    "\n",
    "b) 2, 4, 8, 16, 32, 64, ____\n",
    "\n",
    "c) 0, 1, 4, 9, 16, 25, 36, ____\n",
    "\n",
    "d) 4, 16, 36, 64, ____\n",
    "\n",
    "e) 1, 1, 2, 3, 5, 8, ____\n",
    "\n",
    "f) 2,10, 12, 16, 17, 18, 19, ____"
   ]
  },
  {
   "cell_type": "markdown",
   "id": "f6680b25",
   "metadata": {},
   "source": [
    "## Resposta\n",
    "a- 9\n",
    "\n",
    "b- 128\n",
    "\n",
    "c- 49\n",
    "\n",
    "d- 100\n",
    "\n",
    "e- 13\n",
    "\n",
    "f- 200"
   ]
  },
  {
   "cell_type": "markdown",
   "id": "811dcb9a",
   "metadata": {},
   "source": [
    "## \n",
    "4 - Dois veículos (um carro e um caminhão) saem respectivamente de cidades opostas pela mesma rodovia. O carro de Ribeirão Preto em direção a Franca, a uma velocidade constante de 110 km/h e o caminhão de Franca em direção a Ribeirão Preto a uma velocidade constante de 80 km/h. Quando eles se cruzarem na rodovia, qual estará mais próximo a cidade de Ribeirão Preto?\n",
    "\n",
    "\n",
    "\n",
    "IMPORTANTE:\n",
    "\n",
    "a) Considerar a distância de 100km entre a cidade de Ribeirão Preto <-> Franca.\n",
    "\n",
    "b) Considerar 2 pedágios como obstáculo e que o caminhão leva 5 minutos a mais para passar em cada um deles e o carro possui tag de pedágio (Sem Parar)\n",
    "\n",
    "c) Explique como chegou no resultado."
   ]
  },
  {
   "cell_type": "markdown",
   "id": "c9703443",
   "metadata": {},
   "source": [
    "##\n",
    "O carro á 110km/h chegaria á Franca(distância de 100km) em aprox. 54 minutos;\n",
    "O caminhão á 80km/h chegaria á Ribeirão Preto em aprox. 1h25minutos, contando com os obstáculos;\n",
    "Caso se cruzarem na rodovia, de qualquer maneira o Caminhão estará mais próximo de Ribeirão Preto, pois esse é seu destino!\n"
   ]
  },
  {
   "cell_type": "markdown",
   "id": "5b553e1f",
   "metadata": {},
   "source": [
    "### 5) Escreva um programa que inverta os caracteres de um string.\n",
    "\n",
    "\n",
    "\n",
    "IMPORTANTE:\n",
    "\n",
    "a) Essa string pode ser informada através de qualquer entrada de sua preferência ou pode ser previamente definida no código;\n",
    "\n",
    "b) Evite usar funções prontas, como, por exemplo, reverse;"
   ]
  },
  {
   "cell_type": "code",
   "execution_count": 4,
   "id": "f318dcb3",
   "metadata": {},
   "outputs": [
    {
     "name": "stdout",
     "output_type": "stream",
     "text": [
      "otxet retrevnI\n"
     ]
    }
   ],
   "source": [
    "txt = 'Inverter texto'[::-1]\n",
    "print(txt)"
   ]
  },
  {
   "cell_type": "code",
   "execution_count": null,
   "id": "037e60a5",
   "metadata": {},
   "outputs": [],
   "source": []
  }
 ],
 "metadata": {
  "kernelspec": {
   "display_name": "Python 3 (ipykernel)",
   "language": "python",
   "name": "python3"
  },
  "language_info": {
   "codemirror_mode": {
    "name": "ipython",
    "version": 3
   },
   "file_extension": ".py",
   "mimetype": "text/x-python",
   "name": "python",
   "nbconvert_exporter": "python",
   "pygments_lexer": "ipython3",
   "version": "3.9.7"
  }
 },
 "nbformat": 4,
 "nbformat_minor": 5
}
